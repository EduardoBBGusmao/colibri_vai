{
 "cells": [
  {
   "cell_type": "markdown",
   "metadata": {},
   "source": [
    "# Parte 1 - car_trip.csv"
   ]
  },
  {
   "cell_type": "code",
   "execution_count": 1,
   "metadata": {},
   "outputs": [],
   "source": [
    "import numpy as np\n",
    "import pandas as pd\n",
    "import matplotlib.pyplot as plt\n",
    "import seaborn as sns\n",
    "\n",
    "from scipy.interpolate import interp1d\n",
    "\n",
    "%matplotlib inline"
   ]
  },
  {
   "cell_type": "code",
   "execution_count": 2,
   "metadata": {},
   "outputs": [
    {
     "name": "stdout",
     "output_type": "stream",
     "text": [
      "<class 'pandas.core.frame.DataFrame'>\n",
      "RangeIndex: 2461 entries, 0 to 2460\n",
      "Data columns (total 3 columns):\n",
      "Date        2461 non-null object\n",
      "Velocity    2461 non-null int64\n",
      "RPM         2461 non-null float64\n",
      "dtypes: float64(1), int64(1), object(1)\n",
      "memory usage: 57.8+ KB\n"
     ]
    }
   ],
   "source": [
    "data = pd.read_csv(\"car_trip.csv\")\n",
    "carinfo = pd.read_csv(\"vai.csv\")\n",
    "sns.set_style(style=\"dark\")\n",
    "data.info()"
   ]
  },
  {
   "cell_type": "code",
   "execution_count": 3,
   "metadata": {},
   "outputs": [
    {
     "name": "stdout",
     "output_type": "stream",
     "text": [
      "<class 'pandas.core.frame.DataFrame'>\n",
      "RangeIndex: 11 entries, 0 to 10\n",
      "Data columns (total 9 columns):\n",
      "Id         11 non-null int64\n",
      "User       11 non-null object\n",
      "Begin      11 non-null object\n",
      "End        11 non-null object\n",
      "Minutes    11 non-null int64\n",
      "Consumo    11 non-null int64\n",
      "km         11 non-null int64\n",
      "Cost       11 non-null float64\n",
      "kml        11 non-null int64\n",
      "dtypes: float64(1), int64(5), object(3)\n",
      "memory usage: 872.0+ bytes\n"
     ]
    }
   ],
   "source": [
    "carinfo.info()"
   ]
  },
  {
   "cell_type": "code",
   "execution_count": 4,
   "metadata": {},
   "outputs": [
    {
     "data": {
      "text/plain": [
       "28/05/201915:37    361\n",
       "28/05/201915:00    317\n",
       "28/05/201907:55    300\n",
       "03/06/201915:30    220\n",
       "27/05/201915:30    202\n",
       "03/06/201916:14    194\n",
       "28/05/201912:40    194\n",
       "03/06/201914:47    179\n",
       "03/06/201915:12    172\n",
       "03/06/201915:52    163\n",
       "03/06/201916:03    159\n",
       "Name: Date, dtype: int64"
      ]
     },
     "execution_count": 4,
     "metadata": {},
     "output_type": "execute_result"
    }
   ],
   "source": [
    "#How many dates?\n",
    "data[\"Date\"].value_counts()"
   ]
  },
  {
   "cell_type": "code",
   "execution_count": 5,
   "metadata": {},
   "outputs": [],
   "source": [
    "first_trip    = data.iloc[:202]          # 27/05/201915:30\n",
    "second_trip   = data.iloc[202:202+300]   # 28/05/201907:55\n",
    "third_trip    = data.iloc[502:502+194]   # 28/05/201912:40\n",
    "forth_trip    = data.iloc[696:696+317]   # 28/05/201915:00\n",
    "fifth_trip    = data.iloc[1013:1013+361] # 28/05/201915:37\n",
    "sixth_trip    = data.iloc[1374:1374+179] # 03/06/201914:47\n",
    "seventh_trip  = data.iloc[1553:1553+172] # 03/06/201915:12\n",
    "eighth_trip   = data.iloc[1725:1725+220] # 03/06/201915:30\n",
    "nineth_trip   = data.iloc[1945:1945+163] # 03/06/201915:52\n",
    "tenth_trip    = data.iloc[2108:2108+159] # 03/06/201916:03\n",
    "eleventh_trip = data.iloc[2267:2267+194] # 03/06/201916:14\n",
    "\n",
    "trips = [first_trip, second_trip, third_trip, forth_trip, fifth_trip, sixth_trip, seventh_trip, eighth_trip,\n",
    "        nineth_trip, tenth_trip, eleventh_trip]"
   ]
  },
  {
   "cell_type": "code",
   "execution_count": 6,
   "metadata": {},
   "outputs": [],
   "source": [
    "def generate_random_date():\n",
    "    #Date format: 28/05/201915:37\n",
    "    return \"{:02}/{:02}/{}{:02}:00\".format(np.random.randint(1,29),\n",
    "                                           np.random.randint(1,13),\n",
    "                                           2010 + np.random.randint(0,9),\n",
    "                                           np.random.randint(0,24), \n",
    "                                           np.random.randint(0,60))\n",
    "\n",
    "def generate_random_consumption(minutes, km):\n",
    "    minutes_factor = 10 + np.random.randint(0,5) + np.random.random()\n",
    "    km_factor = np.random.random() / 10\n",
    "    return minutes_factor * minutes + km_factor * km"
   ]
  },
  {
   "cell_type": "code",
   "execution_count": 7,
   "metadata": {
    "scrolled": false
   },
   "outputs": [
    {
     "name": "stderr",
     "output_type": "stream",
     "text": [
      "/usr/local/Cellar/python3/3.6.4_2/Frameworks/Python.framework/Versions/3.6/lib/python3.6/site-packages/scipy/interpolate/interpolate.py:610: RuntimeWarning: divide by zero encountered in true_divide\n",
      "  slope = (y_hi - y_lo) / (x_hi - x_lo)[:, None]\n",
      "/usr/local/Cellar/python3/3.6.4_2/Frameworks/Python.framework/Versions/3.6/lib/python3.6/site-packages/scipy/interpolate/interpolate.py:613: RuntimeWarning: invalid value encountered in multiply\n",
      "  y_new = slope*(x_new - x_lo)[:, None] + y_lo\n",
      "/usr/local/Cellar/python3/3.6.4_2/Frameworks/Python.framework/Versions/3.6/lib/python3.6/site-packages/scipy/interpolate/interpolate.py:610: RuntimeWarning: invalid value encountered in true_divide\n",
      "  slope = (y_hi - y_lo) / (x_hi - x_lo)[:, None]\n",
      "/usr/local/Cellar/python3/3.6.4_2/Frameworks/Python.framework/Versions/3.6/lib/python3.6/site-packages/scipy/interpolate/interpolate.py:610: RuntimeWarning: invalid value encountered in subtract\n",
      "  slope = (y_hi - y_lo) / (x_hi - x_lo)[:, None]\n",
      "/usr/local/Cellar/python3/3.6.4_2/Frameworks/Python.framework/Versions/3.6/lib/python3.6/site-packages/scipy/interpolate/interpolate.py:613: RuntimeWarning: invalid value encountered in add\n",
      "  y_new = slope*(x_new - x_lo)[:, None] + y_lo\n"
     ]
    },
    {
     "name": "stdout",
     "output_type": "stream",
     "text": [
      "200 new sets generated in 1.90 seconds\n"
     ]
    }
   ],
   "source": [
    "import time\n",
    "start = time.perf_counter()\n",
    "num_of_sets = 200\n",
    "gas_price = [2.50, 2.70, 2.60, 2.65, 2.95, 3.00, 3.30, 3.70, 4.00, 4.30]\n",
    "i = 0\n",
    "while i < num_of_sets:\n",
    "    global trips\n",
    "    global carinfo\n",
    "    num_of_available_trips = len(trips)  \n",
    "    date = generate_random_date()\n",
    "    random_trip = np.random.randint(low=0, high=num_of_available_trips)\n",
    "    total_time = carinfo.iloc[random_trip][\"Minutes\"]\n",
    "    rate = 1\n",
    "    if total_time > 20: rate = 5\n",
    "    original_velocities = trips[random_trip][\"Velocity\"]\n",
    "    original_rpm        = trips[random_trip][\"RPM\"]\n",
    "    n = len(original_velocities)\n",
    "    x = np.arange(n)\n",
    "    sinoid = np.random.randint(low=1, high=5) * np.random.random() * (np.sin(2 * np.pi * 2 * x / n) - np.sin(2 * np.pi * 1 * x / n))\n",
    "    noise_up = np.random.randint(low=2, high=10) * np.random.random_sample(n)\n",
    "    noise_down = np.random.randint(low=2, high=10) * np.random.random_sample(n)\n",
    "    new_velocities = (original_velocities + sinoid + noise_up - noise_down).astype(int).apply(lambda x: max(0,x))\n",
    "    distance = rate * sum(new_velocities) - (rate/2) * (list(new_velocities)[0] + list(new_velocities)[-1])\n",
    "    distance /= 3.6\n",
    "    user = {\"Id\": 636465667, \"User\": \"VictorOliveira\", \"Begin\": date, \n",
    "            \"End\": \"{}{:02}\".format(date[:-2], total_time), \"Minutes\": total_time, \n",
    "            \"Consumo\": generate_random_consumption(total_time, distance), \"km\": round(distance) }\n",
    "    user[\"Cost\"] = round(gas_price[int(date[8:10]) - 10] * user[\"Consumo\"] / 1000,2)\n",
    "    user[\"kml\"] = int(1000 * user[\"km\"] / user[\"Consumo\"])\n",
    "    if user[\"kml\"] > 15000: continue\n",
    "    rpm_velocity = interp1d(original_velocities,original_rpm,fill_value=\"extrapolate\") # RPM = f(velocity)\n",
    "    rpm_noise = np.random.random_sample(n) - np.random.randint(low=1, high=7) / 10 # random noise\n",
    "    new_rpm = rpm_velocity(new_velocities) + rpm_noise\n",
    "    new_rpm[np.isnan(new_rpm)] = 0.875 # velocity = 0 generates NaN's\n",
    "    new_rpm = np.around(new_rpm,decimals=3)\n",
    "    new_rpm = list(map(lambda x: max(0.850,x), new_rpm))\n",
    "    dictionary = {\"Date\": [date] * n ,\"Velocity\": list(new_velocities), \"RPM\": new_rpm}\n",
    "    dataframe_vel_rpm = pd.DataFrame(data=dictionary,columns=[\"Date\",\"Velocity\", \"RPM\"])\n",
    "    dataframe_car_info = pd.DataFrame(data=user,index=[11+i],columns=[\"Id\",\"User\",\"Begin\",\"End\",\"Minutes\",\"Consumo\",\"km\",\"Cost\",\"kml\"])\n",
    "    trips.append(dataframe_vel_rpm)\n",
    "    carinfo = pd.concat([carinfo, dataframe_car_info])\n",
    "    i += 1\n",
    "    \n",
    "end = time.perf_counter()\n",
    "print(\"{} new sets generated in {:.2f} seconds\".format(num_of_sets, end - start))"
   ]
  },
  {
   "cell_type": "code",
   "execution_count": 8,
   "metadata": {},
   "outputs": [
    {
     "data": {
      "text/plain": [
       "'Number of trips now = 211'"
      ]
     },
     "execution_count": 8,
     "metadata": {},
     "output_type": "execute_result"
    }
   ],
   "source": [
    "\"Number of trips now = {}\".format(len(trips))"
   ]
  },
  {
   "cell_type": "code",
   "execution_count": 9,
   "metadata": {},
   "outputs": [],
   "source": [
    "for i in range(11,11+num_of_sets):\n",
    "    global data\n",
    "    data = pd.concat([data, trips[i]],ignore_index=True)"
   ]
  },
  {
   "cell_type": "code",
   "execution_count": 10,
   "metadata": {},
   "outputs": [
    {
     "data": {
      "text/html": [
       "<div>\n",
       "<style scoped>\n",
       "    .dataframe tbody tr th:only-of-type {\n",
       "        vertical-align: middle;\n",
       "    }\n",
       "\n",
       "    .dataframe tbody tr th {\n",
       "        vertical-align: top;\n",
       "    }\n",
       "\n",
       "    .dataframe thead th {\n",
       "        text-align: right;\n",
       "    }\n",
       "</style>\n",
       "<table border=\"1\" class=\"dataframe\">\n",
       "  <thead>\n",
       "    <tr style=\"text-align: right;\">\n",
       "      <th></th>\n",
       "      <th>Date</th>\n",
       "      <th>Velocity</th>\n",
       "      <th>RPM</th>\n",
       "    </tr>\n",
       "  </thead>\n",
       "  <tbody>\n",
       "    <tr>\n",
       "      <th>43773</th>\n",
       "      <td>13/12/201701:00</td>\n",
       "      <td>11</td>\n",
       "      <td>2.325</td>\n",
       "    </tr>\n",
       "    <tr>\n",
       "      <th>43774</th>\n",
       "      <td>13/12/201701:00</td>\n",
       "      <td>5</td>\n",
       "      <td>0.949</td>\n",
       "    </tr>\n",
       "    <tr>\n",
       "      <th>43775</th>\n",
       "      <td>13/12/201701:00</td>\n",
       "      <td>11</td>\n",
       "      <td>2.592</td>\n",
       "    </tr>\n",
       "    <tr>\n",
       "      <th>43776</th>\n",
       "      <td>13/12/201701:00</td>\n",
       "      <td>9</td>\n",
       "      <td>3.083</td>\n",
       "    </tr>\n",
       "    <tr>\n",
       "      <th>43777</th>\n",
       "      <td>13/12/201701:00</td>\n",
       "      <td>9</td>\n",
       "      <td>3.113</td>\n",
       "    </tr>\n",
       "    <tr>\n",
       "      <th>43778</th>\n",
       "      <td>13/12/201701:00</td>\n",
       "      <td>3</td>\n",
       "      <td>1.019</td>\n",
       "    </tr>\n",
       "    <tr>\n",
       "      <th>43779</th>\n",
       "      <td>13/12/201701:00</td>\n",
       "      <td>0</td>\n",
       "      <td>0.875</td>\n",
       "    </tr>\n",
       "    <tr>\n",
       "      <th>43780</th>\n",
       "      <td>13/12/201701:00</td>\n",
       "      <td>0</td>\n",
       "      <td>0.875</td>\n",
       "    </tr>\n",
       "    <tr>\n",
       "      <th>43781</th>\n",
       "      <td>13/12/201701:00</td>\n",
       "      <td>7</td>\n",
       "      <td>1.262</td>\n",
       "    </tr>\n",
       "    <tr>\n",
       "      <th>43782</th>\n",
       "      <td>13/12/201701:00</td>\n",
       "      <td>3</td>\n",
       "      <td>1.077</td>\n",
       "    </tr>\n",
       "  </tbody>\n",
       "</table>\n",
       "</div>"
      ],
      "text/plain": [
       "                  Date  Velocity    RPM\n",
       "43773  13/12/201701:00        11  2.325\n",
       "43774  13/12/201701:00         5  0.949\n",
       "43775  13/12/201701:00        11  2.592\n",
       "43776  13/12/201701:00         9  3.083\n",
       "43777  13/12/201701:00         9  3.113\n",
       "43778  13/12/201701:00         3  1.019\n",
       "43779  13/12/201701:00         0  0.875\n",
       "43780  13/12/201701:00         0  0.875\n",
       "43781  13/12/201701:00         7  1.262\n",
       "43782  13/12/201701:00         3  1.077"
      ]
     },
     "execution_count": 10,
     "metadata": {},
     "output_type": "execute_result"
    }
   ],
   "source": [
    "data.tail(10)"
   ]
  },
  {
   "cell_type": "code",
   "execution_count": 11,
   "metadata": {},
   "outputs": [
    {
     "data": {
      "text/html": [
       "<div>\n",
       "<style scoped>\n",
       "    .dataframe tbody tr th:only-of-type {\n",
       "        vertical-align: middle;\n",
       "    }\n",
       "\n",
       "    .dataframe tbody tr th {\n",
       "        vertical-align: top;\n",
       "    }\n",
       "\n",
       "    .dataframe thead th {\n",
       "        text-align: right;\n",
       "    }\n",
       "</style>\n",
       "<table border=\"1\" class=\"dataframe\">\n",
       "  <thead>\n",
       "    <tr style=\"text-align: right;\">\n",
       "      <th></th>\n",
       "      <th>Id</th>\n",
       "      <th>User</th>\n",
       "      <th>Begin</th>\n",
       "      <th>End</th>\n",
       "      <th>Minutes</th>\n",
       "      <th>Consumo</th>\n",
       "      <th>km</th>\n",
       "      <th>Cost</th>\n",
       "      <th>kml</th>\n",
       "    </tr>\n",
       "  </thead>\n",
       "  <tbody>\n",
       "    <tr>\n",
       "      <th>201</th>\n",
       "      <td>636465667</td>\n",
       "      <td>VictorOliveira</td>\n",
       "      <td>13/05/201301:00</td>\n",
       "      <td>13/05/201301:24</td>\n",
       "      <td>24</td>\n",
       "      <td>448.928320</td>\n",
       "      <td>6503</td>\n",
       "      <td>1.19</td>\n",
       "      <td>14485</td>\n",
       "    </tr>\n",
       "    <tr>\n",
       "      <th>202</th>\n",
       "      <td>636465667</td>\n",
       "      <td>VictorOliveira</td>\n",
       "      <td>19/07/201509:00</td>\n",
       "      <td>19/07/201509:10</td>\n",
       "      <td>10</td>\n",
       "      <td>147.895155</td>\n",
       "      <td>699</td>\n",
       "      <td>0.44</td>\n",
       "      <td>4726</td>\n",
       "    </tr>\n",
       "    <tr>\n",
       "      <th>203</th>\n",
       "      <td>636465667</td>\n",
       "      <td>VictorOliveira</td>\n",
       "      <td>13/12/201302:00</td>\n",
       "      <td>13/12/201302:10</td>\n",
       "      <td>10</td>\n",
       "      <td>167.099010</td>\n",
       "      <td>767</td>\n",
       "      <td>0.44</td>\n",
       "      <td>4590</td>\n",
       "    </tr>\n",
       "    <tr>\n",
       "      <th>204</th>\n",
       "      <td>636465667</td>\n",
       "      <td>VictorOliveira</td>\n",
       "      <td>26/11/201608:00</td>\n",
       "      <td>26/11/201608:33</td>\n",
       "      <td>33</td>\n",
       "      <td>579.556241</td>\n",
       "      <td>6622</td>\n",
       "      <td>1.91</td>\n",
       "      <td>11425</td>\n",
       "    </tr>\n",
       "    <tr>\n",
       "      <th>205</th>\n",
       "      <td>636465667</td>\n",
       "      <td>VictorOliveira</td>\n",
       "      <td>26/08/201701:00</td>\n",
       "      <td>26/08/201701:09</td>\n",
       "      <td>9</td>\n",
       "      <td>124.853569</td>\n",
       "      <td>897</td>\n",
       "      <td>0.46</td>\n",
       "      <td>7184</td>\n",
       "    </tr>\n",
       "    <tr>\n",
       "      <th>206</th>\n",
       "      <td>636465667</td>\n",
       "      <td>VictorOliveira</td>\n",
       "      <td>23/02/201808:00</td>\n",
       "      <td>23/02/201808:25</td>\n",
       "      <td>25</td>\n",
       "      <td>866.531964</td>\n",
       "      <td>7245</td>\n",
       "      <td>3.47</td>\n",
       "      <td>8360</td>\n",
       "    </tr>\n",
       "    <tr>\n",
       "      <th>207</th>\n",
       "      <td>636465667</td>\n",
       "      <td>VictorOliveira</td>\n",
       "      <td>22/06/201201:00</td>\n",
       "      <td>22/06/201201:10</td>\n",
       "      <td>10</td>\n",
       "      <td>151.156316</td>\n",
       "      <td>879</td>\n",
       "      <td>0.39</td>\n",
       "      <td>5815</td>\n",
       "    </tr>\n",
       "    <tr>\n",
       "      <th>208</th>\n",
       "      <td>636465667</td>\n",
       "      <td>VictorOliveira</td>\n",
       "      <td>17/07/201004:00</td>\n",
       "      <td>17/07/201004:33</td>\n",
       "      <td>33</td>\n",
       "      <td>1060.315810</td>\n",
       "      <td>6556</td>\n",
       "      <td>2.65</td>\n",
       "      <td>6183</td>\n",
       "    </tr>\n",
       "    <tr>\n",
       "      <th>209</th>\n",
       "      <td>636465667</td>\n",
       "      <td>VictorOliveira</td>\n",
       "      <td>06/04/201110:00</td>\n",
       "      <td>06/04/201110:33</td>\n",
       "      <td>33</td>\n",
       "      <td>485.096182</td>\n",
       "      <td>6128</td>\n",
       "      <td>1.31</td>\n",
       "      <td>12632</td>\n",
       "    </tr>\n",
       "    <tr>\n",
       "      <th>210</th>\n",
       "      <td>636465667</td>\n",
       "      <td>VictorOliveira</td>\n",
       "      <td>13/12/201701:00</td>\n",
       "      <td>13/12/201701:10</td>\n",
       "      <td>10</td>\n",
       "      <td>180.713652</td>\n",
       "      <td>761</td>\n",
       "      <td>0.67</td>\n",
       "      <td>4211</td>\n",
       "    </tr>\n",
       "  </tbody>\n",
       "</table>\n",
       "</div>"
      ],
      "text/plain": [
       "            Id            User            Begin              End  Minutes  \\\n",
       "201  636465667  VictorOliveira  13/05/201301:00  13/05/201301:24       24   \n",
       "202  636465667  VictorOliveira  19/07/201509:00  19/07/201509:10       10   \n",
       "203  636465667  VictorOliveira  13/12/201302:00  13/12/201302:10       10   \n",
       "204  636465667  VictorOliveira  26/11/201608:00  26/11/201608:33       33   \n",
       "205  636465667  VictorOliveira  26/08/201701:00  26/08/201701:09        9   \n",
       "206  636465667  VictorOliveira  23/02/201808:00  23/02/201808:25       25   \n",
       "207  636465667  VictorOliveira  22/06/201201:00  22/06/201201:10       10   \n",
       "208  636465667  VictorOliveira  17/07/201004:00  17/07/201004:33       33   \n",
       "209  636465667  VictorOliveira  06/04/201110:00  06/04/201110:33       33   \n",
       "210  636465667  VictorOliveira  13/12/201701:00  13/12/201701:10       10   \n",
       "\n",
       "         Consumo    km  Cost    kml  \n",
       "201   448.928320  6503  1.19  14485  \n",
       "202   147.895155   699  0.44   4726  \n",
       "203   167.099010   767  0.44   4590  \n",
       "204   579.556241  6622  1.91  11425  \n",
       "205   124.853569   897  0.46   7184  \n",
       "206   866.531964  7245  3.47   8360  \n",
       "207   151.156316   879  0.39   5815  \n",
       "208  1060.315810  6556  2.65   6183  \n",
       "209   485.096182  6128  1.31  12632  \n",
       "210   180.713652   761  0.67   4211  "
      ]
     },
     "execution_count": 11,
     "metadata": {},
     "output_type": "execute_result"
    }
   ],
   "source": [
    "carinfo.tail(10)"
   ]
  },
  {
   "cell_type": "code",
   "execution_count": 12,
   "metadata": {},
   "outputs": [],
   "source": [
    "# new_csv\n",
    "data.to_csv(\"car_trip1.csv\",index=False)\n",
    "carinfo.to_csv(\"agoravai.csv\",index=False)"
   ]
  }
 ],
 "metadata": {
  "kernelspec": {
   "display_name": "Python 3",
   "language": "python",
   "name": "python3"
  },
  "language_info": {
   "codemirror_mode": {
    "name": "ipython",
    "version": 3
   },
   "file_extension": ".py",
   "mimetype": "text/x-python",
   "name": "python",
   "nbconvert_exporter": "python",
   "pygments_lexer": "ipython3",
   "version": "3.6.4"
  }
 },
 "nbformat": 4,
 "nbformat_minor": 2
}
